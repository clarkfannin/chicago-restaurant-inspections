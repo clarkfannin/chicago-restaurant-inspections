{
 "cells": [
  {
   "cell_type": "code",
   "execution_count": null,
   "id": "053d20d0",
   "metadata": {},
   "outputs": [],
   "source": []
  },
  {
   "cell_type": "code",
   "execution_count": null,
   "id": "e95265dc",
   "metadata": {},
   "outputs": [],
   "source": [
    "import psycopg2\n",
    "import pandas as pd\n",
    "\n",
    "conn = psycopg2.connect(\n",
    "    dbname=\"chicago_inspections\",\n",
    "    user=\"clarkfannin\",\n",
    "    host=\"localhost\"\n",
    ")"
   ]
  },
  {
   "cell_type": "code",
   "execution_count": 9,
   "id": "8daea660",
   "metadata": {},
   "outputs": [
    {
     "name": "stdout",
     "output_type": "stream",
     "text": [
      "                 result   count\n",
      "0  Business Not Located      93\n",
      "1                  Fail   57656\n",
      "2              No Entry   12878\n",
      "3             Not Ready    4093\n",
      "4       Out of Business   24676\n",
      "5                  Pass  154075\n",
      "6    Pass w/ Conditions   44620\n"
     ]
    },
    {
     "name": "stderr",
     "output_type": "stream",
     "text": [
      "/var/folders/my/h75p8jvd2wv1c2h_mb5p20vw0000gn/T/ipykernel_47666/3898166530.py:1: UserWarning: pandas only supports SQLAlchemy connectable (engine/connection) or database string URI or sqlite3 DBAPI2 connection. Other DBAPI2 objects are not tested. Please consider using SQLAlchemy.\n",
      "  risk = pd.read_sql(\"SELECT result, COUNT(*) FROM inspections GROUP BY result\", conn)\n"
     ]
    }
   ],
   "source": [
    "risk = pd.read_sql(\"SELECT result, COUNT(*) FROM inspections GROUP BY result\", conn)\n",
    "print(risk)"
   ]
  }
 ],
 "metadata": {
  "kernelspec": {
   "display_name": ".venv",
   "language": "python",
   "name": "python3"
  },
  "language_info": {
   "codemirror_mode": {
    "name": "ipython",
    "version": 3
   },
   "file_extension": ".py",
   "mimetype": "text/x-python",
   "name": "python",
   "nbconvert_exporter": "python",
   "pygments_lexer": "ipython3",
   "version": "3.13.7"
  }
 },
 "nbformat": 4,
 "nbformat_minor": 5
}
